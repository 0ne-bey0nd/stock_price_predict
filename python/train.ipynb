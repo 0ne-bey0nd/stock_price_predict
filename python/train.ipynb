{
 "cells": [
  {
   "metadata": {
    "ExecuteTime": {
     "end_time": "2024-06-17T12:46:57.518015Z",
     "start_time": "2024-06-17T12:46:54.959541Z"
    }
   },
   "cell_type": "code",
   "source": [
    "from init import *\n",
    "from data.data import *\n",
    "from model.model import *\n",
    "from utils.utils import *"
   ],
   "id": "76721cf6ce9901c7",
   "outputs": [
    {
     "name": "stdout",
     "output_type": "stream",
     "text": [
      "torch version: 2.3.0+cu121 device: cuda:0\n",
      "model_dir: D:\\college\\NLP\\stock_price_predict\\models\n",
      "images_dir: D:\\college\\NLP\\stock_price_predict\\images\n"
     ]
    }
   ],
   "execution_count": 1
  },
  {
   "metadata": {
    "ExecuteTime": {
     "end_time": "2024-06-17T12:47:08.332171Z",
     "start_time": "2024-06-17T12:47:07.543755Z"
    }
   },
   "cell_type": "code",
   "source": [
    "# ========================= run =========================\n",
    "# ========================= data phase =========================\n",
    "stock_code = 'sz399300'\n",
    "day_nums = 10000\n",
    "raw_data = get_data(stock_code, day_nums)\n",
    "raw_data.shape"
   ],
   "id": "d9b3194bc0b96289",
   "outputs": [
    {
     "data": {
      "text/plain": [
       "(4722, 5)"
      ]
     },
     "execution_count": 2,
     "metadata": {},
     "output_type": "execute_result"
    }
   ],
   "execution_count": 2
  },
  {
   "metadata": {
    "ExecuteTime": {
     "end_time": "2024-06-17T12:47:27.191363Z",
     "start_time": "2024-06-17T12:47:27.172640Z"
    }
   },
   "cell_type": "code",
   "source": "raw_data",
   "id": "6bfa46a9e6ffee88",
   "outputs": [
    {
     "data": {
      "text/plain": [
       "                open      high       low     close        volume\n",
       "                                                                \n",
       "2005-01-04   994.769   994.769   980.658   982.794  7.412869e+08\n",
       "2005-01-05   981.577   997.323   979.877   992.564  7.119109e+08\n",
       "2005-01-06   993.331   993.788   980.330   983.174  6.288029e+08\n",
       "2005-01-07   983.045   995.711   979.812   983.958  7.298694e+08\n",
       "2005-01-10   983.760   993.959   979.789   993.879  5.791698e+08\n",
       "...              ...       ...       ...       ...           ...\n",
       "2024-06-11  3555.819  3565.311  3525.895  3542.877  1.345223e+10\n",
       "2024-06-12  3539.095  3551.171  3531.566  3544.123  1.228137e+10\n",
       "2024-06-13  3548.216  3551.077  3520.180  3526.131  1.232455e+10\n",
       "2024-06-14  3514.800  3547.147  3503.523  3541.533  1.715169e+10\n",
       "2024-06-17  3521.437  3540.793  3520.738  3536.198  1.374334e+10\n",
       "\n",
       "[4722 rows x 5 columns]"
      ],
      "text/html": [
       "<div>\n",
       "<style scoped>\n",
       "    .dataframe tbody tr th:only-of-type {\n",
       "        vertical-align: middle;\n",
       "    }\n",
       "\n",
       "    .dataframe tbody tr th {\n",
       "        vertical-align: top;\n",
       "    }\n",
       "\n",
       "    .dataframe thead th {\n",
       "        text-align: right;\n",
       "    }\n",
       "</style>\n",
       "<table border=\"1\" class=\"dataframe\">\n",
       "  <thead>\n",
       "    <tr style=\"text-align: right;\">\n",
       "      <th></th>\n",
       "      <th>open</th>\n",
       "      <th>high</th>\n",
       "      <th>low</th>\n",
       "      <th>close</th>\n",
       "      <th>volume</th>\n",
       "    </tr>\n",
       "    <tr>\n",
       "      <th></th>\n",
       "      <th></th>\n",
       "      <th></th>\n",
       "      <th></th>\n",
       "      <th></th>\n",
       "      <th></th>\n",
       "    </tr>\n",
       "  </thead>\n",
       "  <tbody>\n",
       "    <tr>\n",
       "      <th>2005-01-04</th>\n",
       "      <td>994.769</td>\n",
       "      <td>994.769</td>\n",
       "      <td>980.658</td>\n",
       "      <td>982.794</td>\n",
       "      <td>7.412869e+08</td>\n",
       "    </tr>\n",
       "    <tr>\n",
       "      <th>2005-01-05</th>\n",
       "      <td>981.577</td>\n",
       "      <td>997.323</td>\n",
       "      <td>979.877</td>\n",
       "      <td>992.564</td>\n",
       "      <td>7.119109e+08</td>\n",
       "    </tr>\n",
       "    <tr>\n",
       "      <th>2005-01-06</th>\n",
       "      <td>993.331</td>\n",
       "      <td>993.788</td>\n",
       "      <td>980.330</td>\n",
       "      <td>983.174</td>\n",
       "      <td>6.288029e+08</td>\n",
       "    </tr>\n",
       "    <tr>\n",
       "      <th>2005-01-07</th>\n",
       "      <td>983.045</td>\n",
       "      <td>995.711</td>\n",
       "      <td>979.812</td>\n",
       "      <td>983.958</td>\n",
       "      <td>7.298694e+08</td>\n",
       "    </tr>\n",
       "    <tr>\n",
       "      <th>2005-01-10</th>\n",
       "      <td>983.760</td>\n",
       "      <td>993.959</td>\n",
       "      <td>979.789</td>\n",
       "      <td>993.879</td>\n",
       "      <td>5.791698e+08</td>\n",
       "    </tr>\n",
       "    <tr>\n",
       "      <th>...</th>\n",
       "      <td>...</td>\n",
       "      <td>...</td>\n",
       "      <td>...</td>\n",
       "      <td>...</td>\n",
       "      <td>...</td>\n",
       "    </tr>\n",
       "    <tr>\n",
       "      <th>2024-06-11</th>\n",
       "      <td>3555.819</td>\n",
       "      <td>3565.311</td>\n",
       "      <td>3525.895</td>\n",
       "      <td>3542.877</td>\n",
       "      <td>1.345223e+10</td>\n",
       "    </tr>\n",
       "    <tr>\n",
       "      <th>2024-06-12</th>\n",
       "      <td>3539.095</td>\n",
       "      <td>3551.171</td>\n",
       "      <td>3531.566</td>\n",
       "      <td>3544.123</td>\n",
       "      <td>1.228137e+10</td>\n",
       "    </tr>\n",
       "    <tr>\n",
       "      <th>2024-06-13</th>\n",
       "      <td>3548.216</td>\n",
       "      <td>3551.077</td>\n",
       "      <td>3520.180</td>\n",
       "      <td>3526.131</td>\n",
       "      <td>1.232455e+10</td>\n",
       "    </tr>\n",
       "    <tr>\n",
       "      <th>2024-06-14</th>\n",
       "      <td>3514.800</td>\n",
       "      <td>3547.147</td>\n",
       "      <td>3503.523</td>\n",
       "      <td>3541.533</td>\n",
       "      <td>1.715169e+10</td>\n",
       "    </tr>\n",
       "    <tr>\n",
       "      <th>2024-06-17</th>\n",
       "      <td>3521.437</td>\n",
       "      <td>3540.793</td>\n",
       "      <td>3520.738</td>\n",
       "      <td>3536.198</td>\n",
       "      <td>1.374334e+10</td>\n",
       "    </tr>\n",
       "  </tbody>\n",
       "</table>\n",
       "<p>4722 rows × 5 columns</p>\n",
       "</div>"
      ]
     },
     "execution_count": 3,
     "metadata": {},
     "output_type": "execute_result"
    }
   ],
   "execution_count": 3
  },
  {
   "metadata": {},
   "cell_type": "code",
   "outputs": [],
   "execution_count": null,
   "source": "",
   "id": "94dd90825d7eaf64"
  }
 ],
 "metadata": {
  "kernelspec": {
   "display_name": "Python 3",
   "language": "python",
   "name": "python3"
  },
  "language_info": {
   "codemirror_mode": {
    "name": "ipython",
    "version": 2
   },
   "file_extension": ".py",
   "mimetype": "text/x-python",
   "name": "python",
   "nbconvert_exporter": "python",
   "pygments_lexer": "ipython2",
   "version": "2.7.6"
  }
 },
 "nbformat": 4,
 "nbformat_minor": 5
}
